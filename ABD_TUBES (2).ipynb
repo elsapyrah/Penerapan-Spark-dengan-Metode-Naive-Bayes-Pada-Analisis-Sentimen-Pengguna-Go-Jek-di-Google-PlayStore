{
  "nbformat": 4,
  "nbformat_minor": 0,
  "metadata": {
    "colab": {
      "provenance": []
    },
    "kernelspec": {
      "name": "python3",
      "display_name": "Python 3"
    },
    "language_info": {
      "name": "python"
    }
  },
  "cells": [
    {
      "cell_type": "code",
      "execution_count": null,
      "metadata": {
        "colab": {
          "base_uri": "https://localhost:8080/"
        },
        "id": "YiBYeakdAU8a",
        "outputId": "948c8c3c-462f-4764-9ff1-3f996c110613"
      },
      "outputs": [
        {
          "output_type": "stream",
          "name": "stderr",
          "text": [
            "[nltk_data] Downloading package omw-1.4 to /root/nltk_data...\n",
            "[nltk_data]   Package omw-1.4 is already up-to-date!\n"
          ]
        },
        {
          "output_type": "execute_result",
          "data": {
            "text/plain": [
              "True"
            ]
          },
          "metadata": {},
          "execution_count": 1
        }
      ],
      "source": [
        "import nltk\n",
        "nltk.download('omw-1.4')"
      ]
    },
    {
      "cell_type": "code",
      "source": [
        "from google.colab import drive\n",
        "drive.mount('/content/drive')"
      ],
      "metadata": {
        "colab": {
          "base_uri": "https://localhost:8080/"
        },
        "id": "GHdDbN2JAfC7",
        "outputId": "2e6b8635-fb86-4356-f9af-c6fc7d8c1d76"
      },
      "execution_count": null,
      "outputs": [
        {
          "output_type": "stream",
          "name": "stdout",
          "text": [
            "Drive already mounted at /content/drive; to attempt to forcibly remount, call drive.mount(\"/content/drive\", force_remount=True).\n"
          ]
        }
      ]
    },
    {
      "cell_type": "code",
      "source": [
        "pip install pyspark"
      ],
      "metadata": {
        "colab": {
          "base_uri": "https://localhost:8080/"
        },
        "id": "wcecDSA4Bovq",
        "outputId": "560837e6-66ce-47b5-ad6f-237f2c4efbfd",
        "collapsed": true
      },
      "execution_count": null,
      "outputs": [
        {
          "output_type": "stream",
          "name": "stdout",
          "text": [
            "Requirement already satisfied: pyspark in /usr/local/lib/python3.10/dist-packages (3.5.1)\n",
            "Requirement already satisfied: py4j==0.10.9.7 in /usr/local/lib/python3.10/dist-packages (from pyspark) (0.10.9.7)\n"
          ]
        }
      ]
    },
    {
      "cell_type": "code",
      "source": [
        "pip install mlflow"
      ],
      "metadata": {
        "colab": {
          "base_uri": "https://localhost:8080/"
        },
        "collapsed": true,
        "id": "um2ehfYfm8Ez",
        "outputId": "681752d5-7739-4bd1-f317-a5450b44ca56"
      },
      "execution_count": null,
      "outputs": [
        {
          "output_type": "stream",
          "name": "stdout",
          "text": [
            "Requirement already satisfied: mlflow in /usr/local/lib/python3.10/dist-packages (2.13.0)\n",
            "Requirement already satisfied: Flask<4 in /usr/local/lib/python3.10/dist-packages (from mlflow) (2.2.5)\n",
            "Requirement already satisfied: alembic!=1.10.0,<2 in /usr/local/lib/python3.10/dist-packages (from mlflow) (1.13.1)\n",
            "Requirement already satisfied: cachetools<6,>=5.0.0 in /usr/local/lib/python3.10/dist-packages (from mlflow) (5.3.3)\n",
            "Requirement already satisfied: click<9,>=7.0 in /usr/local/lib/python3.10/dist-packages (from mlflow) (8.1.7)\n",
            "Requirement already satisfied: cloudpickle<4 in /usr/local/lib/python3.10/dist-packages (from mlflow) (2.2.1)\n",
            "Requirement already satisfied: docker<8,>=4.0.0 in /usr/local/lib/python3.10/dist-packages (from mlflow) (7.0.0)\n",
            "Requirement already satisfied: entrypoints<1 in /usr/local/lib/python3.10/dist-packages (from mlflow) (0.4)\n",
            "Requirement already satisfied: gitpython<4,>=3.1.9 in /usr/local/lib/python3.10/dist-packages (from mlflow) (3.1.43)\n",
            "Requirement already satisfied: graphene<4 in /usr/local/lib/python3.10/dist-packages (from mlflow) (3.3)\n",
            "Requirement already satisfied: importlib-metadata!=4.7.0,<8,>=3.7.0 in /usr/local/lib/python3.10/dist-packages (from mlflow) (7.0.0)\n",
            "Requirement already satisfied: markdown<4,>=3.3 in /usr/local/lib/python3.10/dist-packages (from mlflow) (3.6)\n",
            "Requirement already satisfied: matplotlib<4 in /usr/local/lib/python3.10/dist-packages (from mlflow) (3.7.1)\n",
            "Requirement already satisfied: numpy<2 in /usr/local/lib/python3.10/dist-packages (from mlflow) (1.25.2)\n",
            "Requirement already satisfied: opentelemetry-api<3,>=1.0.0 in /usr/local/lib/python3.10/dist-packages (from mlflow) (1.24.0)\n",
            "Requirement already satisfied: opentelemetry-sdk<3,>=1.0.0 in /usr/local/lib/python3.10/dist-packages (from mlflow) (1.24.0)\n",
            "Requirement already satisfied: packaging<25 in /usr/local/lib/python3.10/dist-packages (from mlflow) (24.0)\n",
            "Requirement already satisfied: pandas<3 in /usr/local/lib/python3.10/dist-packages (from mlflow) (2.0.3)\n",
            "Requirement already satisfied: protobuf<5,>=3.12.0 in /usr/local/lib/python3.10/dist-packages (from mlflow) (3.20.3)\n",
            "Requirement already satisfied: pyarrow<16,>=4.0.0 in /usr/local/lib/python3.10/dist-packages (from mlflow) (14.0.2)\n",
            "Requirement already satisfied: pytz<2025 in /usr/local/lib/python3.10/dist-packages (from mlflow) (2023.4)\n",
            "Requirement already satisfied: pyyaml<7,>=5.1 in /usr/local/lib/python3.10/dist-packages (from mlflow) (6.0.1)\n",
            "Requirement already satisfied: querystring-parser<2 in /usr/local/lib/python3.10/dist-packages (from mlflow) (1.2.4)\n",
            "Requirement already satisfied: requests<3,>=2.17.3 in /usr/local/lib/python3.10/dist-packages (from mlflow) (2.31.0)\n",
            "Requirement already satisfied: scikit-learn<2 in /usr/local/lib/python3.10/dist-packages (from mlflow) (1.2.2)\n",
            "Requirement already satisfied: scipy<2 in /usr/local/lib/python3.10/dist-packages (from mlflow) (1.11.4)\n",
            "Requirement already satisfied: sqlalchemy<3,>=1.4.0 in /usr/local/lib/python3.10/dist-packages (from mlflow) (2.0.30)\n",
            "Requirement already satisfied: sqlparse<1,>=0.4.0 in /usr/local/lib/python3.10/dist-packages (from mlflow) (0.5.0)\n",
            "Requirement already satisfied: Jinja2<4,>=2.11 in /usr/local/lib/python3.10/dist-packages (from mlflow) (3.1.4)\n",
            "Requirement already satisfied: gunicorn<23 in /usr/local/lib/python3.10/dist-packages (from mlflow) (22.0.0)\n",
            "Requirement already satisfied: Mako in /usr/local/lib/python3.10/dist-packages (from alembic!=1.10.0,<2->mlflow) (1.3.5)\n",
            "Requirement already satisfied: typing-extensions>=4 in /usr/local/lib/python3.10/dist-packages (from alembic!=1.10.0,<2->mlflow) (4.11.0)\n",
            "Requirement already satisfied: urllib3>=1.26.0 in /usr/local/lib/python3.10/dist-packages (from docker<8,>=4.0.0->mlflow) (2.0.7)\n",
            "Requirement already satisfied: Werkzeug>=2.2.2 in /usr/local/lib/python3.10/dist-packages (from Flask<4->mlflow) (3.0.3)\n",
            "Requirement already satisfied: itsdangerous>=2.0 in /usr/local/lib/python3.10/dist-packages (from Flask<4->mlflow) (2.2.0)\n",
            "Requirement already satisfied: gitdb<5,>=4.0.1 in /usr/local/lib/python3.10/dist-packages (from gitpython<4,>=3.1.9->mlflow) (4.0.11)\n",
            "Requirement already satisfied: graphql-core<3.3,>=3.1 in /usr/local/lib/python3.10/dist-packages (from graphene<4->mlflow) (3.2.3)\n",
            "Requirement already satisfied: graphql-relay<3.3,>=3.1 in /usr/local/lib/python3.10/dist-packages (from graphene<4->mlflow) (3.2.0)\n",
            "Requirement already satisfied: aniso8601<10,>=8 in /usr/local/lib/python3.10/dist-packages (from graphene<4->mlflow) (9.0.1)\n",
            "Requirement already satisfied: zipp>=0.5 in /usr/local/lib/python3.10/dist-packages (from importlib-metadata!=4.7.0,<8,>=3.7.0->mlflow) (3.18.2)\n",
            "Requirement already satisfied: MarkupSafe>=2.0 in /usr/local/lib/python3.10/dist-packages (from Jinja2<4,>=2.11->mlflow) (2.1.5)\n",
            "Requirement already satisfied: contourpy>=1.0.1 in /usr/local/lib/python3.10/dist-packages (from matplotlib<4->mlflow) (1.2.1)\n",
            "Requirement already satisfied: cycler>=0.10 in /usr/local/lib/python3.10/dist-packages (from matplotlib<4->mlflow) (0.12.1)\n",
            "Requirement already satisfied: fonttools>=4.22.0 in /usr/local/lib/python3.10/dist-packages (from matplotlib<4->mlflow) (4.51.0)\n",
            "Requirement already satisfied: kiwisolver>=1.0.1 in /usr/local/lib/python3.10/dist-packages (from matplotlib<4->mlflow) (1.4.5)\n",
            "Requirement already satisfied: pillow>=6.2.0 in /usr/local/lib/python3.10/dist-packages (from matplotlib<4->mlflow) (9.4.0)\n",
            "Requirement already satisfied: pyparsing>=2.3.1 in /usr/local/lib/python3.10/dist-packages (from matplotlib<4->mlflow) (3.1.2)\n",
            "Requirement already satisfied: python-dateutil>=2.7 in /usr/local/lib/python3.10/dist-packages (from matplotlib<4->mlflow) (2.8.2)\n",
            "Requirement already satisfied: deprecated>=1.2.6 in /usr/local/lib/python3.10/dist-packages (from opentelemetry-api<3,>=1.0.0->mlflow) (1.2.14)\n",
            "Requirement already satisfied: opentelemetry-semantic-conventions==0.45b0 in /usr/local/lib/python3.10/dist-packages (from opentelemetry-sdk<3,>=1.0.0->mlflow) (0.45b0)\n",
            "Requirement already satisfied: tzdata>=2022.1 in /usr/local/lib/python3.10/dist-packages (from pandas<3->mlflow) (2024.1)\n",
            "Requirement already satisfied: six in /usr/local/lib/python3.10/dist-packages (from querystring-parser<2->mlflow) (1.16.0)\n",
            "Requirement already satisfied: charset-normalizer<4,>=2 in /usr/local/lib/python3.10/dist-packages (from requests<3,>=2.17.3->mlflow) (3.3.2)\n",
            "Requirement already satisfied: idna<4,>=2.5 in /usr/local/lib/python3.10/dist-packages (from requests<3,>=2.17.3->mlflow) (3.7)\n",
            "Requirement already satisfied: certifi>=2017.4.17 in /usr/local/lib/python3.10/dist-packages (from requests<3,>=2.17.3->mlflow) (2024.2.2)\n",
            "Requirement already satisfied: joblib>=1.1.1 in /usr/local/lib/python3.10/dist-packages (from scikit-learn<2->mlflow) (1.4.2)\n",
            "Requirement already satisfied: threadpoolctl>=2.0.0 in /usr/local/lib/python3.10/dist-packages (from scikit-learn<2->mlflow) (3.5.0)\n",
            "Requirement already satisfied: greenlet!=0.4.17 in /usr/local/lib/python3.10/dist-packages (from sqlalchemy<3,>=1.4.0->mlflow) (3.0.3)\n",
            "Requirement already satisfied: wrapt<2,>=1.10 in /usr/local/lib/python3.10/dist-packages (from deprecated>=1.2.6->opentelemetry-api<3,>=1.0.0->mlflow) (1.14.1)\n",
            "Requirement already satisfied: smmap<6,>=3.0.1 in /usr/local/lib/python3.10/dist-packages (from gitdb<5,>=4.0.1->gitpython<4,>=3.1.9->mlflow) (5.0.1)\n"
          ]
        }
      ]
    },
    {
      "cell_type": "markdown",
      "source": [
        "# Import Library"
      ],
      "metadata": {
        "id": "37QBzWXhnMz1"
      }
    },
    {
      "cell_type": "code",
      "source": [
        "# Import Libraries\n",
        "import re\n",
        "import pandas as pd\n",
        "from nltk.corpus import stopwords\n",
        "from wordcloud import WordCloud, STOPWORDS\n",
        "import spacy\n",
        "\n",
        "import pyspark\n",
        "from pyspark.sql import SparkSession\n",
        "import mlflow\n",
        "import sys\n",
        "import time\n",
        "from pyspark.ml.classification import RandomForestClassifier\n",
        "from pyspark.ml.evaluation import BinaryClassificationEvaluator\n",
        "import mlflow.spark\n",
        "from pyspark.sql import SparkSession\n",
        "from pyspark.sql import functions as F\n",
        "from pyspark.ml.feature import VectorAssembler\n",
        "from pyspark.ml import Pipeline"
      ],
      "metadata": {
        "id": "WlxhrcTEBmrU"
      },
      "execution_count": null,
      "outputs": []
    },
    {
      "cell_type": "code",
      "source": [
        "import os\n",
        "import sys\n",
        "\n",
        "os.environ['PYSPARK_PYTHON'] = sys.executable\n",
        "os.environ['PYSPARK_DRIVER_PYTHON'] = sys.executable"
      ],
      "metadata": {
        "id": "B0OAnIYmB1Xo"
      },
      "execution_count": null,
      "outputs": []
    },
    {
      "cell_type": "markdown",
      "source": [
        "# Spark Session"
      ],
      "metadata": {
        "id": "rjghtWVICIKt"
      }
    },
    {
      "cell_type": "code",
      "source": [
        "# Inisialisasi sesi Spark\n",
        "spark = SparkSession.builder.appName(\"SentimentAnalysis\").getOrCreate()"
      ],
      "metadata": {
        "id": "a98AqjuLCCHS"
      },
      "execution_count": null,
      "outputs": []
    },
    {
      "cell_type": "code",
      "source": [
        "spark"
      ],
      "metadata": {
        "colab": {
          "base_uri": "https://localhost:8080/",
          "height": 222
        },
        "id": "HxJqRIlrCGEg",
        "outputId": "76961e6a-03e8-4a50-e7e9-1f731c428e6e"
      },
      "execution_count": null,
      "outputs": [
        {
          "output_type": "execute_result",
          "data": {
            "text/plain": [
              "<pyspark.sql.session.SparkSession at 0x791aafa417b0>"
            ],
            "text/html": [
              "\n",
              "            <div>\n",
              "                <p><b>SparkSession - in-memory</b></p>\n",
              "                \n",
              "        <div>\n",
              "            <p><b>SparkContext</b></p>\n",
              "\n",
              "            <p><a href=\"http://9b88d97d3a06:4040\">Spark UI</a></p>\n",
              "\n",
              "            <dl>\n",
              "              <dt>Version</dt>\n",
              "                <dd><code>v3.5.1</code></dd>\n",
              "              <dt>Master</dt>\n",
              "                <dd><code>local[*]</code></dd>\n",
              "              <dt>AppName</dt>\n",
              "                <dd><code>SentimentAnalysis</code></dd>\n",
              "            </dl>\n",
              "        </div>\n",
              "        \n",
              "            </div>\n",
              "        "
            ]
          },
          "metadata": {},
          "execution_count": 8
        }
      ]
    },
    {
      "cell_type": "markdown",
      "source": [
        "# Import Data"
      ],
      "metadata": {
        "id": "JwXklB3_xghG"
      }
    },
    {
      "cell_type": "code",
      "source": [
        "df = spark.read.csv('/content/drive/MyDrive/DataABD/Review Gojek.csv', header=True, inferSchema=True)\n",
        "df.show(5)"
      ],
      "metadata": {
        "colab": {
          "base_uri": "https://localhost:8080/"
        },
        "id": "XezKtYonD_wP",
        "outputId": "008953fb-d3de-4fe2-8567-1984fded9c70"
      },
      "execution_count": null,
      "outputs": [
        {
          "output_type": "stream",
          "name": "stdout",
          "text": [
            "+------------------+-----+---------------+--------------------+\n",
            "|          userName|score|             at|             content|\n",
            "+------------------+-----+---------------+--------------------+\n",
            "|     Chalid Ismail|    5|10/30/2022 8:20|    Really Satisfied|\n",
            "|     irwan saputra|    5|10/30/2022 8:12|               Keren|\n",
            "|kurniawati tanamal|    1|10/30/2022 8:10|tambahin feature ...|\n",
            "|           ui hoon|    5|10/30/2022 8:05|                Good|\n",
            "|  christian darren|    1|10/30/2022 7:53|Promo tidak bisa ...|\n",
            "+------------------+-----+---------------+--------------------+\n",
            "only showing top 5 rows\n",
            "\n"
          ]
        }
      ]
    },
    {
      "cell_type": "code",
      "source": [
        "print(\"Jumlah Baris:\", df.count())\n",
        "print(\"Jumlah Kolom:\", len(df.columns))"
      ],
      "metadata": {
        "colab": {
          "base_uri": "https://localhost:8080/"
        },
        "id": "sJcOS3yhoJkT",
        "outputId": "f8ca49ff-a872-4f12-dbd8-466b53e47f8b"
      },
      "execution_count": null,
      "outputs": [
        {
          "output_type": "stream",
          "name": "stdout",
          "text": [
            "Jumlah Baris: 1041818\n",
            "Jumlah Kolom: 4\n"
          ]
        }
      ]
    },
    {
      "cell_type": "code",
      "source": [
        "df.describe().show()"
      ],
      "metadata": {
        "colab": {
          "base_uri": "https://localhost:8080/"
        },
        "id": "Kn42oWNSoNfC",
        "outputId": "4d92337c-79a0-4e37-9153-5ab609317c68"
      },
      "execution_count": null,
      "outputs": [
        {
          "output_type": "stream",
          "name": "stdout",
          "text": [
            "+-------+--------------------+--------------------+--------------------+--------------------+\n",
            "|summary|            userName|               score|                  at|             content|\n",
            "+-------+--------------------+--------------------+--------------------+--------------------+\n",
            "|  count|             1041815|             1038023|             1036831|             1036514|\n",
            "|   mean|                 NaN|  3.8403839530102335|                 2.0|8.293103450151043...|\n",
            "| stddev|                 NaN|  1.6597488974061831|                NULL|6.315839420527601...|\n",
            "|    min|!!! LU TAU GAK IT...|                    |                    |                    |\n",
            "|    max|               🤣🤣\"|yg satu ramah dan...|uda malam2 pergi ...|                🫶🫶|\n",
            "+-------+--------------------+--------------------+--------------------+--------------------+\n",
            "\n"
          ]
        }
      ]
    },
    {
      "cell_type": "code",
      "source": [
        "df.printSchema()"
      ],
      "metadata": {
        "colab": {
          "base_uri": "https://localhost:8080/"
        },
        "id": "lxgXlFUJnzKU",
        "outputId": "9e68bc60-319f-4c44-e0da-9619f14e07ef"
      },
      "execution_count": null,
      "outputs": [
        {
          "output_type": "stream",
          "name": "stdout",
          "text": [
            "root\n",
            " |-- userName: string (nullable = true)\n",
            " |-- score: string (nullable = true)\n",
            " |-- at: string (nullable = true)\n",
            " |-- content: string (nullable = true)\n",
            "\n"
          ]
        }
      ]
    },
    {
      "cell_type": "code",
      "source": [
        "from pyspark.sql.functions import col\n",
        "from pyspark.sql.types import IntegerType\n",
        "\n",
        "# Mengubah tipe data kolom \"score\" menjadi integer\n",
        "df = df.withColumn(\"Score\", col(\"Score\").cast(IntegerType()))"
      ],
      "metadata": {
        "id": "_ViC8CdOaDK7"
      },
      "execution_count": null,
      "outputs": []
    },
    {
      "cell_type": "code",
      "source": [
        "df.printSchema()"
      ],
      "metadata": {
        "colab": {
          "base_uri": "https://localhost:8080/"
        },
        "id": "jhUIaikOaLEq",
        "outputId": "d10b1c8e-430c-4661-836e-26d7a9d43d1e"
      },
      "execution_count": null,
      "outputs": [
        {
          "output_type": "stream",
          "name": "stdout",
          "text": [
            "root\n",
            " |-- userName: string (nullable = true)\n",
            " |-- Score: integer (nullable = true)\n",
            " |-- at: string (nullable = true)\n",
            " |-- content: string (nullable = true)\n",
            "\n"
          ]
        }
      ]
    },
    {
      "cell_type": "code",
      "source": [
        "df.tail(5)"
      ],
      "metadata": {
        "colab": {
          "base_uri": "https://localhost:8080/"
        },
        "id": "6GoUgPoAoFVd",
        "outputId": "a7d20821-7390-4426-f2e3-0b3357f2faf7"
      },
      "execution_count": null,
      "outputs": [
        {
          "output_type": "execute_result",
          "data": {
            "text/plain": [
              "[Row(userName='Chenel Dakwah', Score=5, at='5/16/2024 5:14', content='Ramah dan tepat waktu'),\n",
              " Row(userName='Arafah HerCom', Score=5, at='5/16/2024 5:09', content='mantaf'),\n",
              " Row(userName='Iwan Kurniawan', Score=5, at='5/16/2024 5:06', content=\"Yang dekat aja, cs'nya cancelin mulu, saking gg sabarnya nunggu driver\"),\n",
              " Row(userName='Siti Marifah', Score=5, at='5/16/2024 4:50', content='keren'),\n",
              " Row(userName='Alvino Ifandi', Score=5, at='5/16/2024 4:49', content='aplikasi yang bagus ini')]"
            ]
          },
          "metadata": {},
          "execution_count": 15
        }
      ]
    },
    {
      "cell_type": "markdown",
      "source": [
        "# Data Preprocessing"
      ],
      "metadata": {
        "id": "YLnRaodznsl8"
      }
    },
    {
      "cell_type": "code",
      "source": [
        "#Drop missing values\n",
        "df = df.dropna()\n",
        "\n",
        "df.show(5)"
      ],
      "metadata": {
        "colab": {
          "base_uri": "https://localhost:8080/"
        },
        "id": "u4KvlgjBIX-z",
        "outputId": "08b288ca-61fe-4bf3-eb50-c8de5eb44817"
      },
      "execution_count": null,
      "outputs": [
        {
          "output_type": "stream",
          "name": "stdout",
          "text": [
            "+------------------+-----+---------------+--------------------+\n",
            "|          userName|Score|             at|             content|\n",
            "+------------------+-----+---------------+--------------------+\n",
            "|     Chalid Ismail|    5|10/30/2022 8:20|    Really Satisfied|\n",
            "|     irwan saputra|    5|10/30/2022 8:12|               Keren|\n",
            "|kurniawati tanamal|    1|10/30/2022 8:10|tambahin feature ...|\n",
            "|           ui hoon|    5|10/30/2022 8:05|                Good|\n",
            "|  christian darren|    1|10/30/2022 7:53|Promo tidak bisa ...|\n",
            "+------------------+-----+---------------+--------------------+\n",
            "only showing top 5 rows\n",
            "\n"
          ]
        }
      ]
    },
    {
      "cell_type": "code",
      "source": [
        "df.count()"
      ],
      "metadata": {
        "colab": {
          "base_uri": "https://localhost:8080/"
        },
        "id": "t0kPRdhxIcig",
        "outputId": "c0761f2b-913c-4e7a-f1cd-de6327bc8114"
      },
      "execution_count": null,
      "outputs": [
        {
          "output_type": "execute_result",
          "data": {
            "text/plain": [
              "1036445"
            ]
          },
          "metadata": {},
          "execution_count": 17
        }
      ]
    },
    {
      "cell_type": "code",
      "source": [
        "# Melihat banyaknya duplikasi data\n",
        "print(\"Jumlah duplikasi data:\", df.count()-df.dropDuplicates().count())"
      ],
      "metadata": {
        "colab": {
          "base_uri": "https://localhost:8080/"
        },
        "id": "VS2yp99hoYVq",
        "outputId": "95995252-4912-4c54-dfb0-887ff6b00d9a"
      },
      "execution_count": null,
      "outputs": [
        {
          "output_type": "stream",
          "name": "stdout",
          "text": [
            "Jumlah duplikasi data: 339604\n"
          ]
        }
      ]
    },
    {
      "cell_type": "code",
      "source": [
        "# Menghilangkan duplikasi data\n",
        "df1 = df.dropDuplicates()\n",
        "\n",
        "# Menampilkan jumlah data bersih\n",
        "print(\"Jumlah data bersih setelah menghilangkan duplikasi:\", df1.count())\n",
        "df1.show(5)"
      ],
      "metadata": {
        "colab": {
          "base_uri": "https://localhost:8080/"
        },
        "id": "89ITnrSssmgk",
        "outputId": "81994037-1a4e-4360-eb68-76e79dad5def"
      },
      "execution_count": null,
      "outputs": [
        {
          "output_type": "stream",
          "name": "stdout",
          "text": [
            "Jumlah data bersih setelah menghilangkan duplikasi: 696841\n",
            "+--------------+-----+----------------+--------------------+\n",
            "|      userName|Score|              at|             content|\n",
            "+--------------+-----+----------------+--------------------+\n",
            "| Rizky Gunawan|    4|10/29/2022 12:49|Can you make keyp...|\n",
            "|      Bill McG|    5| 10/24/2022 5:41|Always reliable b...|\n",
            "|Rendzy Widjaya|    3| 10/17/2022 9:12|Aplikasi lemot, a...|\n",
            "|   Agung Setya|    5| 10/17/2022 5:18|            membantu|\n",
            "|           T E|    3|10/12/2022 23:56|Please remove aut...|\n",
            "+--------------+-----+----------------+--------------------+\n",
            "only showing top 5 rows\n",
            "\n"
          ]
        }
      ]
    },
    {
      "cell_type": "markdown",
      "source": [
        "# Labelling"
      ],
      "metadata": {
        "id": "FlAtXbvMA2hT"
      }
    },
    {
      "cell_type": "code",
      "source": [
        "from pyspark.sql.functions import when\n",
        "\n",
        "# Menambahkan kolom \"sentiment\" berdasarkan Score\n",
        "df1 = df1.withColumn(\"sentiment\",\n",
        "                   when(df1[\"score\"] == 3, \"netral\")\n",
        "                   .when(df1[\"score\"] > 3, \"positif\")\n",
        "                   .when(df1[\"score\"] < 3, \"negatif\"))"
      ],
      "metadata": {
        "id": "ss3PbynQKrzs"
      },
      "execution_count": null,
      "outputs": []
    },
    {
      "cell_type": "code",
      "source": [
        "df1.show(5)"
      ],
      "metadata": {
        "colab": {
          "base_uri": "https://localhost:8080/"
        },
        "id": "TURf6dB-Kybp",
        "outputId": "02e61947-ffde-42c8-fa7c-cfe64f3bc487"
      },
      "execution_count": null,
      "outputs": [
        {
          "output_type": "stream",
          "name": "stdout",
          "text": [
            "+--------------+-----+----------------+--------------------+---------+\n",
            "|      userName|Score|              at|             content|sentiment|\n",
            "+--------------+-----+----------------+--------------------+---------+\n",
            "| Rizky Gunawan|    4|10/29/2022 12:49|Can you make keyp...|  positif|\n",
            "|      Bill McG|    5| 10/24/2022 5:41|Always reliable b...|  positif|\n",
            "|Rendzy Widjaya|    3| 10/17/2022 9:12|Aplikasi lemot, a...|   netral|\n",
            "|   Agung Setya|    5| 10/17/2022 5:18|            membantu|  positif|\n",
            "|           T E|    3|10/12/2022 23:56|Please remove aut...|   netral|\n",
            "+--------------+-----+----------------+--------------------+---------+\n",
            "only showing top 5 rows\n",
            "\n"
          ]
        }
      ]
    },
    {
      "cell_type": "code",
      "source": [
        "# Filter baris yang memiliki nilai sentiment tidak null\n",
        "df1_filtered = df1.filter(col(\"sentiment\").isNotNull())"
      ],
      "metadata": {
        "id": "Hls6L6sNN-2H"
      },
      "execution_count": null,
      "outputs": []
    },
    {
      "cell_type": "code",
      "source": [
        "# Tampilkan jumlah sentimen positif, netral, dan negatif\n",
        "df1_filtered.groupBy(\"sentiment\").count().show()"
      ],
      "metadata": {
        "colab": {
          "base_uri": "https://localhost:8080/"
        },
        "id": "-vW52jH1N2dm",
        "outputId": "b3ba6837-4d81-4c0f-c8ea-c9a600a02034"
      },
      "execution_count": null,
      "outputs": [
        {
          "output_type": "stream",
          "name": "stdout",
          "text": [
            "+---------+------+\n",
            "|sentiment| count|\n",
            "+---------+------+\n",
            "|  negatif|191011|\n",
            "|  positif|468990|\n",
            "|   netral| 36840|\n",
            "+---------+------+\n",
            "\n"
          ]
        }
      ]
    },
    {
      "cell_type": "markdown",
      "source": [
        "# Text Preprocessing"
      ],
      "metadata": {
        "id": "pjQ9FlnXDvzq"
      }
    },
    {
      "cell_type": "code",
      "source": [
        "from pyspark.sql.functions import regexp_replace, lower\n",
        "from pyspark.ml.feature import Tokenizer\n",
        "\n",
        "# Mengganti URL dengan spasi\n",
        "df1 = df1.withColumn('content', regexp_replace(df1['content'], 'https\\S+', ' '))\n",
        "# Mengubah teks menjadi huruf kecil\n",
        "df1 = df1.withColumn('content', lower(df1['content']))\n",
        "# Menghapus kata yang diawali dengan @\n",
        "df1 = df1.withColumn('content', regexp_replace(df1['content'], '@\\S+', ' '))\n",
        "# Menghapus kata yang diawali dengan #\n",
        "df1 = df1.withColumn('content', regexp_replace(df1['content'], '#\\S+', ' '))\n",
        "# Menghapus kata yang berawalan dengan tanda kutip tunggal\n",
        "df1 = df1.withColumn('content', regexp_replace(df1['content'], \"\\'\\w+\", ' '))\n",
        "# Menghapus karakter non-huruf dan non-spasi\n",
        "df1 = df1.withColumn('content', regexp_replace(df1['content'], \"[^\\w\\s]\", ' '))\n",
        "# Menghapus spasi berlebih (2 spasi atau lebih)\n",
        "df1 = df1.withColumn('content', regexp_replace(df1['content'], \"\\s{2,}\", ' '))\n",
        "\n",
        "# Menggunakan Tokenizer untuk membagi teks menjadi token\n",
        "tokenizer = Tokenizer(inputCol='content', outputCol='content_token')\n",
        "df1 = tokenizer.transform(df1)\n",
        "\n",
        "df1.show(5)"
      ],
      "metadata": {
        "colab": {
          "base_uri": "https://localhost:8080/"
        },
        "id": "qMsvJoUwp1Ey",
        "outputId": "8ccc0226-2830-41f4-f467-598251c75905"
      },
      "execution_count": null,
      "outputs": [
        {
          "output_type": "stream",
          "name": "stdout",
          "text": [
            "+--------------+-----+----------------+--------------------+---------+--------------------+\n",
            "|      userName|Score|              at|             content|sentiment|       content_token|\n",
            "+--------------+-----+----------------+--------------------+---------+--------------------+\n",
            "| Rizky Gunawan|    4|10/29/2022 12:49|can you make keyp...|  positif|[can, you, make, ...|\n",
            "|      Bill McG|    5| 10/24/2022 5:41|always reliable b...|  positif|[always, reliable...|\n",
            "|Rendzy Widjaya|    3| 10/17/2022 9:12|aplikasi lemot ap...|   netral|[aplikasi, lemot,...|\n",
            "|   Agung Setya|    5| 10/17/2022 5:18|            membantu|  positif|          [membantu]|\n",
            "|           T E|    3|10/12/2022 23:56|please remove aut...|   netral|[please, remove, ...|\n",
            "+--------------+-----+----------------+--------------------+---------+--------------------+\n",
            "only showing top 5 rows\n",
            "\n"
          ]
        }
      ]
    },
    {
      "cell_type": "markdown",
      "source": [
        "Tokenizer"
      ],
      "metadata": {
        "id": "crKPEaomrFxN"
      }
    },
    {
      "cell_type": "code",
      "source": [
        "from pyspark.ml.feature import Tokenizer\n",
        "\n",
        "# Tokenisasi kolom 'content'\n",
        "tokenizer = Tokenizer(inputCol=\"content\", outputCol=\"words\")\n",
        "tokenized_df = tokenizer.transform(df1)\n",
        "\n",
        "# Menampilkan hasil tokenisasi\n",
        "tokenized_df.select(\"content\", \"words\").show(truncate=False)"
      ],
      "metadata": {
        "colab": {
          "base_uri": "https://localhost:8080/"
        },
        "id": "aot15ihgrE0s",
        "outputId": "344ce61a-ae60-4342-ce3f-5de964949271"
      },
      "execution_count": null,
      "outputs": [
        {
          "output_type": "stream",
          "name": "stdout",
          "text": [
            "+---------------------------------------------------------------------------------------------------------------------------------------------------------------------------------------------------------------------------------------------------------------------+---------------------------------------------------------------------------------------------------------------------------------------------------------------------------------------------------------------------------------------------------------------------------------------------------------------------+\n",
            "|content                                                                                                                                                                                                                                                              |words                                                                                                                                                                                                                                                                                                                |\n",
            "+---------------------------------------------------------------------------------------------------------------------------------------------------------------------------------------------------------------------------------------------------------------------+---------------------------------------------------------------------------------------------------------------------------------------------------------------------------------------------------------------------------------------------------------------------------------------------------------------------+\n",
            "|can you make keypad for entering pin bit larger i mean for having big hand finger it quite annoying to strech my finger to bottom part of screen i can see lot of white space between top most number button to pin input area                                       |[can, you, make, keypad, for, entering, pin, bit, larger, i, mean, for, having, big, hand, finger, it, quite, annoying, to, strech, my, finger, to, bottom, part, of, screen, i, can, see, lot, of, white, space, between, top, most, number, button, to, pin, input, area]                                          |\n",
            "|always reliable but sometimes pricy still better than grab pricing                                                                                                                                                                                                   |[always, reliable, but, sometimes, pricy, still, better, than, grab, pricing]                                                                                                                                                                                                                                        |\n",
            "|aplikasi lemot apalagi kl buka gofood lama loadingnya beda jauh sama aplikasi sebelah yg wuss wuss super cpt loadingnya ini jg salah satu alasan malas pakai gojek                                                                                                   |[aplikasi, lemot, apalagi, kl, buka, gofood, lama, loadingnya, beda, jauh, sama, aplikasi, sebelah, yg, wuss, wuss, super, cpt, loadingnya, ini, jg, salah, satu, alasan, malas, pakai, gojek]                                                                                                                       |\n",
            "|membantu                                                                                                                                                                                                                                                             |[membantu]                                                                                                                                                                                                                                                                                                           |\n",
            "|please remove autobook feature when driver cancel your drivers keep cancel order yet you expect us to keep waiting it a waste of time                                                                                                                                |[please, remove, autobook, feature, when, driver, cancel, your, drivers, keep, cancel, order, yet, you, expect, us, to, keep, waiting, it, a, waste, of, time]                                                                                                                                                       |\n",
            "|ok                                                                                                                                                                                                                                                                   |[ok]                                                                                                                                                                                                                                                                                                                 |\n",
            "|justru pas hujan ngga bs dipake pdhl org perlu delivery sm driver kan pas hujan tarif naik terus tapi pelayanan makin jelek goclub jg skrg diskonnya dikit awalnya 70tb jd 10rb skrg mana benefit harga normal pas jam jrofit udh ngga ada lagi sia2 jd customer lama|[justru, pas, hujan, ngga, bs, dipake, pdhl, org, perlu, delivery, sm, driver, kan, pas, hujan, tarif, naik, terus, tapi, pelayanan, makin, jelek, goclub, jg, skrg, diskonnya, dikit, awalnya, 70tb, jd, 10rb, skrg, mana, benefit, harga, normal, pas, jam, jrofit, udh, ngga, ada, lagi, sia2, jd, customer, lama]|\n",
            "|pakai gps di kota lain yg kebaca masih gps di kota sebelumnya                                                                                                                                                                                                        |[pakai, gps, di, kota, lain, yg, kebaca, masih, gps, di, kota, sebelumnya]                                                                                                                                                                                                                                           |\n",
            "|bayar biaya layanan jang naon ai pas aya masalah robot hungkuk yg bls aplikasi konthhhol gopay saya kembalikan                                                                                                                                                       |[bayar, biaya, layanan, jang, naon, ai, pas, aya, masalah, robot, hungkuk, yg, bls, aplikasi, konthhhol, gopay, saya, kembalikan]                                                                                                                                                                                    |\n",
            "|tidak bisa combo kupon lagi kecewaaaaaa                                                                                                                                                                                                                              |[tidak, bisa, combo, kupon, lagi, kecewaaaaaa]                                                                                                                                                                                                                                                                       |\n",
            "|terbaik                                                                                                                                                                                                                                                              |[terbaik]                                                                                                                                                                                                                                                                                                            |\n",
            "|good drivers happyxwith the service provided                                                                                                                                                                                                                         |[good, drivers, happyxwith, the, service, provided]                                                                                                                                                                                                                                                                  |\n",
            "|sangat membantu user friendly                                                                                                                                                                                                                                        |[sangat, membantu, user, friendly]                                                                                                                                                                                                                                                                                   |\n",
            "|overall budget and good services however it might need to take some time for car booking                                                                                                                                                                             |[overall, budget, and, good, services, however, it, might, need, to, take, some, time, for, car, booking]                                                                                                                                                                                                            |\n",
            "|sometime error                                                                                                                                                                                                                                                       |[sometime, error]                                                                                                                                                                                                                                                                                                    |\n",
            "|good app for tranportation                                                                                                                                                                                                                                           |[good, app, for, tranportation]                                                                                                                                                                                                                                                                                      |\n",
            "|                                                                                                                                                                                                                                                                     |[]                                                                                                                                                                                                                                                                                                                   |\n",
            "|helpfull aplication                                                                                                                                                                                                                                                  |[helpfull, aplication]                                                                                                                                                                                                                                                                                               |\n",
            "|very helpful                                                                                                                                                                                                                                                         |[very, helpful]                                                                                                                                                                                                                                                                                                      |\n",
            "|t h i kh ng book chuy n xe c                                                                                                                                                                                                                                         |[t, h, i, kh, ng, book, chuy, n, xe, c]                                                                                                                                                                                                                                                                              |\n",
            "+---------------------------------------------------------------------------------------------------------------------------------------------------------------------------------------------------------------------------------------------------------------------+---------------------------------------------------------------------------------------------------------------------------------------------------------------------------------------------------------------------------------------------------------------------------------------------------------------------+\n",
            "only showing top 20 rows\n",
            "\n"
          ]
        }
      ]
    },
    {
      "cell_type": "markdown",
      "source": [
        "Filtering (StopWord Removal)"
      ],
      "metadata": {
        "id": "Ux8scvkKpnXC"
      }
    },
    {
      "cell_type": "code",
      "source": [
        "from pyspark.sql import SparkSession\n",
        "from pyspark.sql.functions import col, udf\n",
        "from pyspark.sql.types import ArrayType, StringType\n",
        "import nltk\n",
        "from nltk.corpus import stopwords\n",
        "\n",
        "# Define the list of Indonesian stopwords\n",
        "nltk.download('stopwords')\n",
        "stopwords_list = stopwords.words(\"indonesian\")\n",
        "\n",
        "# Extend the list with custom stopwords\n",
        "my_stopwords = ['gojek']\n",
        "stopwords_list.extend(my_stopwords)\n",
        "\n",
        "# Define UDF to remove stopwords\n",
        "def remove_stopwords(tokens):\n",
        "    return [token for token in tokens if token not in stopwords_list]\n",
        "\n",
        "remove_stopwords_udf = udf(remove_stopwords, ArrayType(StringType()))\n",
        "\n",
        "# Assume df is your Spark DataFrame and 'content_token' is the column with tokenized text\n",
        "df1 = df1.withColumn(\"content_token\", remove_stopwords_udf(col(\"content_token\")))\n",
        "\n",
        "# Show the first 3 rows of the DataFrame\n",
        "df1.show(5)"
      ],
      "metadata": {
        "colab": {
          "base_uri": "https://localhost:8080/"
        },
        "id": "R205AipZpfFO",
        "outputId": "2a1fca51-d3f3-4cc3-d9fb-943f766f80aa"
      },
      "execution_count": null,
      "outputs": [
        {
          "output_type": "stream",
          "name": "stderr",
          "text": [
            "[nltk_data] Downloading package stopwords to /root/nltk_data...\n",
            "[nltk_data]   Package stopwords is already up-to-date!\n"
          ]
        },
        {
          "output_type": "stream",
          "name": "stdout",
          "text": [
            "+--------------+-----+----------------+--------------------+---------+--------------------+\n",
            "|      userName|Score|              at|             content|sentiment|       content_token|\n",
            "+--------------+-----+----------------+--------------------+---------+--------------------+\n",
            "| Rizky Gunawan|    4|10/29/2022 12:49|can you make keyp...|  positif|[can, you, make, ...|\n",
            "|      Bill McG|    5| 10/24/2022 5:41|always reliable b...|  positif|[always, reliable...|\n",
            "|Rendzy Widjaya|    3| 10/17/2022 9:12|aplikasi lemot ap...|   netral|[aplikasi, lemot,...|\n",
            "|   Agung Setya|    5| 10/17/2022 5:18|            membantu|  positif|          [membantu]|\n",
            "|           T E|    3|10/12/2022 23:56|please remove aut...|   netral|[please, remove, ...|\n",
            "+--------------+-----+----------------+--------------------+---------+--------------------+\n",
            "only showing top 5 rows\n",
            "\n"
          ]
        }
      ]
    },
    {
      "cell_type": "markdown",
      "source": [
        "Stemming"
      ],
      "metadata": {
        "id": "9L9FTlbCqF4M"
      }
    },
    {
      "cell_type": "code",
      "source": [
        "pip install Sastrawi"
      ],
      "metadata": {
        "colab": {
          "base_uri": "https://localhost:8080/"
        },
        "id": "bJcAWmdmtqUx",
        "outputId": "abd1edad-3655-43fa-8c96-0de51fdd24ed"
      },
      "execution_count": null,
      "outputs": [
        {
          "output_type": "stream",
          "name": "stdout",
          "text": [
            "Collecting Sastrawi\n",
            "  Downloading Sastrawi-1.0.1-py2.py3-none-any.whl (209 kB)\n",
            "\u001b[?25l     \u001b[90m━━━━━━━━━━━━━━━━━━━━━━━━━━━━━━━━━━━━━━━━\u001b[0m \u001b[32m0.0/209.7 kB\u001b[0m \u001b[31m?\u001b[0m eta \u001b[36m-:--:--\u001b[0m\r\u001b[2K     \u001b[91m━━━━━━━━━━━━━━━━━━━━━━━━━━━\u001b[0m\u001b[90m╺\u001b[0m\u001b[90m━━━━━━━━━━━━\u001b[0m \u001b[32m143.4/209.7 kB\u001b[0m \u001b[31m4.1 MB/s\u001b[0m eta \u001b[36m0:00:01\u001b[0m\r\u001b[2K     \u001b[90m━━━━━━━━━━━━━━━━━━━━━━━━━━━━━━━━━━━━━━━━\u001b[0m \u001b[32m209.7/209.7 kB\u001b[0m \u001b[31m4.1 MB/s\u001b[0m eta \u001b[36m0:00:00\u001b[0m\n",
            "\u001b[?25hInstalling collected packages: Sastrawi\n",
            "Successfully installed Sastrawi-1.0.1\n"
          ]
        }
      ]
    },
    {
      "cell_type": "code",
      "source": [
        "from Sastrawi.Stemmer.StemmerFactory import StemmerFactory\n",
        "\n",
        "# Create Sastrawi stemmer\n",
        "factory = StemmerFactory()\n",
        "stemmer = factory.create_stemmer()\n",
        "\n",
        "# Define UDF to stem each word\n",
        "def stem_tokens(tokens):\n",
        "    return [stemmer.stem(token) for token in tokens]\n",
        "\n",
        "stem_tokens_udf = udf(stem_tokens, ArrayType(StringType()))\n",
        "\n",
        "# Apply stemming UDF to DataFrame\n",
        "df1 = df1.withColumn(\"stemmed\", stem_tokens_udf(col(\"content_token\")))\n",
        "\n",
        "# Show the first 5 rows of the DataFrame\n",
        "df1.show(5)"
      ],
      "metadata": {
        "colab": {
          "base_uri": "https://localhost:8080/"
        },
        "id": "HZuZgAUvqFUj",
        "outputId": "034cb625-abbb-4fef-868c-cf2168fa8ffd"
      },
      "execution_count": null,
      "outputs": [
        {
          "output_type": "stream",
          "name": "stdout",
          "text": [
            "+--------------+-----+----------------+--------------------+---------+--------------------+--------------------+\n",
            "|      userName|Score|              at|             content|sentiment|       content_token|             stemmed|\n",
            "+--------------+-----+----------------+--------------------+---------+--------------------+--------------------+\n",
            "| Rizky Gunawan|    4|10/29/2022 12:49|can you make keyp...|  positif|[can, you, make, ...|[can, you, make, ...|\n",
            "|      Bill McG|    5| 10/24/2022 5:41|always reliable b...|  positif|[always, reliable...|[always, reliable...|\n",
            "|Rendzy Widjaya|    3| 10/17/2022 9:12|aplikasi lemot ap...|   netral|[aplikasi, lemot,...|[aplikasi, lot, k...|\n",
            "|   Agung Setya|    5| 10/17/2022 5:18|            membantu|  positif|          [membantu]|             [bantu]|\n",
            "|           T E|    3|10/12/2022 23:56|please remove aut...|   netral|[please, remove, ...|[please, remove, ...|\n",
            "+--------------+-----+----------------+--------------------+---------+--------------------+--------------------+\n",
            "only showing top 5 rows\n",
            "\n"
          ]
        }
      ]
    },
    {
      "cell_type": "code",
      "source": [
        "# Fungsi UDF untuk menggabungkan token dengan panjang > 3 menjadi string\n",
        "def join_tokens(tokens):\n",
        "    return ' '.join([token for token in tokens if len(token) > 3])\n",
        "\n",
        "# Membuat UDF\n",
        "join_tokens_udf = udf(join_tokens, StringType())\n",
        "\n",
        "# Menggunakan UDF untuk membuat kolom baru 'text_string'\n",
        "df1 = df1.withColumn('text_string', join_tokens_udf(col('stemmed')))\n",
        "\n",
        "# Menampilkan hasil\n",
        "df1.show(truncate=False)"
      ],
      "metadata": {
        "colab": {
          "base_uri": "https://localhost:8080/"
        },
        "id": "l5KhGxDRrSlW",
        "outputId": "7967a803-3c27-4bfa-a2e7-6c8f286d12aa"
      },
      "execution_count": null,
      "outputs": [
        {
          "output_type": "stream",
          "name": "stdout",
          "text": [
            "+------------------+-----+----------------+---------------------------------------------------------------------------------------------------------------------------------------------------------------------------------------------------------------------------------------------------------------------+---------+---------------------------------------------------------------------------------------------------------------------------------------------------------------------------------------------------------------------------------------------------------------------------+---------------------------------------------------------------------------------------------------------------------------------------------------------------------------------------------------------------------------------------------------------------------------+-----------------------------------------------------------------------------------------------------------------------------------------------------+\n",
            "|userName          |Score|at              |content                                                                                                                                                                                                                                                              |sentiment|content_token                                                                                                                                                                                                                                                              |stemmed                                                                                                                                                                                                                                                                    |text_string                                                                                                                                          |\n",
            "+------------------+-----+----------------+---------------------------------------------------------------------------------------------------------------------------------------------------------------------------------------------------------------------------------------------------------------------+---------+---------------------------------------------------------------------------------------------------------------------------------------------------------------------------------------------------------------------------------------------------------------------------+---------------------------------------------------------------------------------------------------------------------------------------------------------------------------------------------------------------------------------------------------------------------------+-----------------------------------------------------------------------------------------------------------------------------------------------------+\n",
            "|Rizky Gunawan     |4    |10/29/2022 12:49|can you make keypad for entering pin bit larger i mean for having big hand finger it quite annoying to strech my finger to bottom part of screen i can see lot of white space between top most number button to pin input area                                       |positif  |[can, you, make, keypad, for, entering, pin, bit, larger, i, mean, for, having, big, hand, finger, it, quite, annoying, to, strech, my, finger, to, bottom, part, of, screen, i, can, see, lot, of, white, space, between, top, most, number, button, to, pin, input, area]|[can, you, make, keypad, for, entering, pin, bit, larger, i, mean, for, having, big, hand, finger, it, quite, annoying, to, strech, my, finger, to, bottom, part, of, screen, i, can, see, lot, of, white, space, between, top, most, number, button, to, pin, input, area]|make keypad entering larger mean having hand finger quite annoying strech finger bottom part screen white space between most number button input area|\n",
            "|Bill McG          |5    |10/24/2022 5:41 |always reliable but sometimes pricy still better than grab pricing                                                                                                                                                                                                   |positif  |[always, reliable, but, sometimes, pricy, still, better, than, grab, pricing]                                                                                                                                                                                              |[always, reliable, but, sometimes, pricy, still, better, than, grab, pricing]                                                                                                                                                                                              |always reliable sometimes pricy still better than grab pricing                                                                                       |\n",
            "|Rendzy Widjaya    |3    |10/17/2022 9:12 |aplikasi lemot apalagi kl buka gofood lama loadingnya beda jauh sama aplikasi sebelah yg wuss wuss super cpt loadingnya ini jg salah satu alasan malas pakai gojek                                                                                                   |netral   |[aplikasi, lemot, kl, buka, gofood, loadingnya, beda, aplikasi, sebelah, yg, wuss, wuss, super, cpt, loadingnya, jg, salah, alasan, malas, pakai]                                                                                                                          |[aplikasi, lot, kl, buka, gofood, loadingnya, beda, aplikasi, belah, yg, wuss, wuss, super, cpt, loadingnya, jg, salah, alas, malas, pakai]                                                                                                                                |aplikasi buka gofood loadingnya beda aplikasi belah wuss wuss super loadingnya salah alas malas pakai                                                |\n",
            "|Agung Setya       |5    |10/17/2022 5:18 |membantu                                                                                                                                                                                                                                                             |positif  |[membantu]                                                                                                                                                                                                                                                                 |[bantu]                                                                                                                                                                                                                                                                    |bantu                                                                                                                                                |\n",
            "|T E               |3    |10/12/2022 23:56|please remove autobook feature when driver cancel your drivers keep cancel order yet you expect us to keep waiting it a waste of time                                                                                                                                |netral   |[please, remove, autobook, feature, when, driver, cancel, your, drivers, keep, cancel, order, yet, you, expect, us, to, keep, waiting, it, a, waste, of, time]                                                                                                             |[please, remove, autobook, feature, when, driver, cancel, your, drivers, keep, cancel, order, yet, you, expect, us, to, keep, waiting, it, a, waste, of, time]                                                                                                             |please remove autobook feature when driver cancel your drivers keep cancel order expect keep waiting waste time                                      |\n",
            "|nugroho prasetyo  |5    |10/11/2022 4:03 |ok                                                                                                                                                                                                                                                                   |positif  |[ok]                                                                                                                                                                                                                                                                       |[ok]                                                                                                                                                                                                                                                                       |                                                                                                                                                     |\n",
            "|Jess Lin          |1    |10/7/2022 3:51  |justru pas hujan ngga bs dipake pdhl org perlu delivery sm driver kan pas hujan tarif naik terus tapi pelayanan makin jelek goclub jg skrg diskonnya dikit awalnya 70tb jd 10rb skrg mana benefit harga normal pas jam jrofit udh ngga ada lagi sia2 jd customer lama|negatif  |[pas, hujan, ngga, bs, dipake, pdhl, org, delivery, sm, driver, pas, hujan, tarif, pelayanan, jelek, goclub, jg, skrg, diskonnya, dikit, 70tb, jd, 10rb, skrg, benefit, harga, normal, pas, jam, jrofit, udh, ngga, sia2, jd, customer]                                    |[pas, hujan, ngga, bs, dipake, pdhl, org, delivery, sm, driver, pas, hujan, tarif, layan, jelek, goclub, jg, skrg, diskon, dikit, 70tb, jd, 10rb, skrg, benefit, harga, normal, pas, jam, jrofit, udh, ngga, sia2, jd, customer]                                           |hujan ngga dipake pdhl delivery driver hujan tarif layan jelek goclub skrg diskon dikit 70tb 10rb skrg benefit harga normal jrofit ngga sia2 customer|\n",
            "|Massed Potato     |2    |10/2/2022 8:01  |pakai gps di kota lain yg kebaca masih gps di kota sebelumnya                                                                                                                                                                                                        |negatif  |[pakai, gps, kota, yg, kebaca, gps, kota]                                                                                                                                                                                                                                  |[pakai, gps, kota, yg, baca, gps, kota]                                                                                                                                                                                                                                    |pakai kota baca kota                                                                                                                                 |\n",
            "|fathur rohman     |1    |9/26/2022 12:28 |bayar biaya layanan jang naon ai pas aya masalah robot hungkuk yg bls aplikasi konthhhol gopay saya kembalikan                                                                                                                                                       |negatif  |[bayar, biaya, layanan, jang, naon, ai, pas, aya, robot, hungkuk, yg, bls, aplikasi, konthhhol, gopay, kembalikan]                                                                                                                                                         |[bayar, biaya, layan, jang, naon, ai, pas, aya, robot, hungkuk, yg, bls, aplikasi, konthhhol, gopay, kembali]                                                                                                                                                              |bayar biaya layan jang naon robot hungkuk aplikasi konthhhol gopay kembali                                                                           |\n",
            "|Dani Pram         |1    |9/10/2022 12:23 |tidak bisa combo kupon lagi kecewaaaaaa                                                                                                                                                                                                                              |negatif  |[combo, kupon, kecewaaaaaa]                                                                                                                                                                                                                                                |[combo, kupon, kecewaaaaaa]                                                                                                                                                                                                                                                |combo kupon kecewaaaaaa                                                                                                                              |\n",
            "|okto napitupulu   |5    |9/10/2022 5:02  |terbaik                                                                                                                                                                                                                                                              |positif  |[terbaik]                                                                                                                                                                                                                                                                  |[baik]                                                                                                                                                                                                                                                                     |baik                                                                                                                                                 |\n",
            "|Russell Williams  |5    |8/31/2022 8:20  |good drivers happyxwith the service provided                                                                                                                                                                                                                         |positif  |[good, drivers, happyxwith, the, service, provided]                                                                                                                                                                                                                        |[good, drivers, happyxwith, the, service, provided]                                                                                                                                                                                                                        |good drivers happyxwith service provided                                                                                                             |\n",
            "|Teguh Martoto     |5    |8/28/2022 12:14 |sangat membantu user friendly                                                                                                                                                                                                                                        |positif  |[membantu, user, friendly]                                                                                                                                                                                                                                                 |[bantu, user, friendly]                                                                                                                                                                                                                                                    |bantu user friendly                                                                                                                                  |\n",
            "|catheryn leong    |4    |8/26/2022 22:57 |overall budget and good services however it might need to take some time for car booking                                                                                                                                                                             |positif  |[overall, budget, and, good, services, however, it, might, need, to, take, some, time, for, car, booking]                                                                                                                                                                  |[overall, budget, and, good, services, however, it, might, need, to, take, some, time, for, car, booking]                                                                                                                                                                  |overall budget good services however might need take some time booking                                                                               |\n",
            "|fung maslie       |3    |8/23/2022 2:43  |sometime error                                                                                                                                                                                                                                                       |netral   |[sometime, error]                                                                                                                                                                                                                                                          |[sometime, error]                                                                                                                                                                                                                                                          |sometime error                                                                                                                                       |\n",
            "|Trâm Lê           |5    |8/21/2022 9:22  |good app for tranportation                                                                                                                                                                                                                                           |positif  |[good, app, for, tranportation]                                                                                                                                                                                                                                            |[good, app, for, tranportation]                                                                                                                                                                                                                                            |good tranportation                                                                                                                                   |\n",
            "|Erwin             |5    |8/16/2022 1:47  |                                                                                                                                                                                                                                                                     |positif  |[]                                                                                                                                                                                                                                                                         |[]                                                                                                                                                                                                                                                                         |                                                                                                                                                     |\n",
            "|danny setyapradja |5    |8/15/2022 10:54 |helpfull aplication                                                                                                                                                                                                                                                  |positif  |[helpfull, aplication]                                                                                                                                                                                                                                                     |[helpfull, aplication]                                                                                                                                                                                                                                                     |helpfull aplication                                                                                                                                  |\n",
            "|Adrianus Sujatmiko|5    |8/13/2022 9:51  |very helpful                                                                                                                                                                                                                                                         |positif  |[very, helpful]                                                                                                                                                                                                                                                            |[very, helpful]                                                                                                                                                                                                                                                            |very helpful                                                                                                                                         |\n",
            "|Minh-Vu Nguyen    |1    |8/12/2022 1:48  |t h i kh ng book chuy n xe c                                                                                                                                                                                                                                         |negatif  |[t, h, i, kh, ng, book, chuy, n, xe, c]                                                                                                                                                                                                                                    |[t, h, i, kh, ng, book, chuy, n, xe, c]                                                                                                                                                                                                                                    |book chuy                                                                                                                                            |\n",
            "+------------------+-----+----------------+---------------------------------------------------------------------------------------------------------------------------------------------------------------------------------------------------------------------------------------------------------------------+---------+---------------------------------------------------------------------------------------------------------------------------------------------------------------------------------------------------------------------------------------------------------------------------+---------------------------------------------------------------------------------------------------------------------------------------------------------------------------------------------------------------------------------------------------------------------------+-----------------------------------------------------------------------------------------------------------------------------------------------------+\n",
            "only showing top 20 rows\n",
            "\n"
          ]
        }
      ]
    },
    {
      "cell_type": "code",
      "source": [
        "# Konversi tipe data kolom 'text_string' menjadi StringType\n",
        "df1 = df1.withColumn(\"text_string\", col(\"text_string\").cast(\"string\"))\n",
        "\n",
        "# Tampilkan tipe data kolom setelah konversi\n",
        "df1.dtypes"
      ],
      "metadata": {
        "colab": {
          "base_uri": "https://localhost:8080/"
        },
        "id": "4_hzzayfrZSr",
        "outputId": "226c1aaa-7ac0-46e7-b679-5ad2d77fed17"
      },
      "execution_count": null,
      "outputs": [
        {
          "output_type": "execute_result",
          "data": {
            "text/plain": [
              "[('userName', 'string'),\n",
              " ('Score', 'int'),\n",
              " ('at', 'string'),\n",
              " ('content', 'string'),\n",
              " ('sentiment', 'string'),\n",
              " ('content_token', 'array<string>'),\n",
              " ('stemmed', 'array<string>'),\n",
              " ('text_string', 'string')]"
            ]
          },
          "metadata": {},
          "execution_count": 35
        }
      ]
    },
    {
      "cell_type": "code",
      "source": [
        "from pyspark.sql.types import IntegerType\n",
        "\n",
        "# Konversi tipe data kolom 'score' menjadi IntegerType\n",
        "df1 = df1.withColumn(\"score\", df1[\"score\"].cast(IntegerType()))\n",
        "\n",
        "# Tampilkan tipe data kolom setelah konversi\n",
        "df1.dtypes"
      ],
      "metadata": {
        "colab": {
          "base_uri": "https://localhost:8080/"
        },
        "id": "VNA6nH3vrbWg",
        "outputId": "d2a3f24c-1ed8-4f2c-ab56-08d80399d991"
      },
      "execution_count": null,
      "outputs": [
        {
          "output_type": "execute_result",
          "data": {
            "text/plain": [
              "[('userName', 'string'),\n",
              " ('score', 'int'),\n",
              " ('at', 'string'),\n",
              " ('content', 'string'),\n",
              " ('sentiment', 'string'),\n",
              " ('content_token', 'array<string>'),\n",
              " ('stemmed', 'array<string>'),\n",
              " ('text_string', 'string')]"
            ]
          },
          "metadata": {},
          "execution_count": 36
        }
      ]
    },
    {
      "cell_type": "markdown",
      "source": [
        "Word Count"
      ],
      "metadata": {
        "id": "jzbkztZVW_xj"
      }
    },
    {
      "cell_type": "code",
      "source": [
        "from pyspark.sql.functions import udf, col, split, size, explode, count\n",
        "from pyspark.sql.types import StringType"
      ],
      "metadata": {
        "id": "pJ6hlxa6utz4"
      },
      "execution_count": null,
      "outputs": []
    },
    {
      "cell_type": "code",
      "source": [
        "# Menghitung jumlah kata untuk setiap baris di kolom 'text_string'\n",
        "df1 = df1.withColumn('word_count', size(split(col('text_string'), ' ')))\n",
        "\n",
        "# Menampilkan hasil dengan word count per baris\n",
        "df1.show(truncate=False)"
      ],
      "metadata": {
        "colab": {
          "base_uri": "https://localhost:8080/"
        },
        "id": "kW1fqzdEuov7",
        "outputId": "ab0e8663-82bf-4378-e317-6f5fc46b4abe"
      },
      "execution_count": null,
      "outputs": [
        {
          "output_type": "stream",
          "name": "stdout",
          "text": [
            "+------------------+-----+----------------+---------------------------------------------------------------------------------------------------------------------------------------------------------------------------------------------------------------------------------------------------------------------+---------+---------------------------------------------------------------------------------------------------------------------------------------------------------------------------------------------------------------------------------------------------------------------------+---------------------------------------------------------------------------------------------------------------------------------------------------------------------------------------------------------------------------------------------------------------------------+-----------------------------------------------------------------------------------------------------------------------------------------------------+----------+\n",
            "|userName          |score|at              |content                                                                                                                                                                                                                                                              |sentiment|content_token                                                                                                                                                                                                                                                              |stemmed                                                                                                                                                                                                                                                                    |text_string                                                                                                                                          |word_count|\n",
            "+------------------+-----+----------------+---------------------------------------------------------------------------------------------------------------------------------------------------------------------------------------------------------------------------------------------------------------------+---------+---------------------------------------------------------------------------------------------------------------------------------------------------------------------------------------------------------------------------------------------------------------------------+---------------------------------------------------------------------------------------------------------------------------------------------------------------------------------------------------------------------------------------------------------------------------+-----------------------------------------------------------------------------------------------------------------------------------------------------+----------+\n",
            "|Rizky Gunawan     |4    |10/29/2022 12:49|can you make keypad for entering pin bit larger i mean for having big hand finger it quite annoying to strech my finger to bottom part of screen i can see lot of white space between top most number button to pin input area                                       |positif  |[can, you, make, keypad, for, entering, pin, bit, larger, i, mean, for, having, big, hand, finger, it, quite, annoying, to, strech, my, finger, to, bottom, part, of, screen, i, can, see, lot, of, white, space, between, top, most, number, button, to, pin, input, area]|[can, you, make, keypad, for, entering, pin, bit, larger, i, mean, for, having, big, hand, finger, it, quite, annoying, to, strech, my, finger, to, bottom, part, of, screen, i, can, see, lot, of, white, space, between, top, most, number, button, to, pin, input, area]|make keypad entering larger mean having hand finger quite annoying strech finger bottom part screen white space between most number button input area|23        |\n",
            "|Bill McG          |5    |10/24/2022 5:41 |always reliable but sometimes pricy still better than grab pricing                                                                                                                                                                                                   |positif  |[always, reliable, but, sometimes, pricy, still, better, than, grab, pricing]                                                                                                                                                                                              |[always, reliable, but, sometimes, pricy, still, better, than, grab, pricing]                                                                                                                                                                                              |always reliable sometimes pricy still better than grab pricing                                                                                       |9         |\n",
            "|Rendzy Widjaya    |3    |10/17/2022 9:12 |aplikasi lemot apalagi kl buka gofood lama loadingnya beda jauh sama aplikasi sebelah yg wuss wuss super cpt loadingnya ini jg salah satu alasan malas pakai gojek                                                                                                   |netral   |[aplikasi, lemot, kl, buka, gofood, loadingnya, beda, aplikasi, sebelah, yg, wuss, wuss, super, cpt, loadingnya, jg, salah, alasan, malas, pakai]                                                                                                                          |[aplikasi, lot, kl, buka, gofood, loadingnya, beda, aplikasi, belah, yg, wuss, wuss, super, cpt, loadingnya, jg, salah, alas, malas, pakai]                                                                                                                                |aplikasi buka gofood loadingnya beda aplikasi belah wuss wuss super loadingnya salah alas malas pakai                                                |15        |\n",
            "|Agung Setya       |5    |10/17/2022 5:18 |membantu                                                                                                                                                                                                                                                             |positif  |[membantu]                                                                                                                                                                                                                                                                 |[bantu]                                                                                                                                                                                                                                                                    |bantu                                                                                                                                                |1         |\n",
            "|T E               |3    |10/12/2022 23:56|please remove autobook feature when driver cancel your drivers keep cancel order yet you expect us to keep waiting it a waste of time                                                                                                                                |netral   |[please, remove, autobook, feature, when, driver, cancel, your, drivers, keep, cancel, order, yet, you, expect, us, to, keep, waiting, it, a, waste, of, time]                                                                                                             |[please, remove, autobook, feature, when, driver, cancel, your, drivers, keep, cancel, order, yet, you, expect, us, to, keep, waiting, it, a, waste, of, time]                                                                                                             |please remove autobook feature when driver cancel your drivers keep cancel order expect keep waiting waste time                                      |17        |\n",
            "|nugroho prasetyo  |5    |10/11/2022 4:03 |ok                                                                                                                                                                                                                                                                   |positif  |[ok]                                                                                                                                                                                                                                                                       |[ok]                                                                                                                                                                                                                                                                       |                                                                                                                                                     |1         |\n",
            "|Jess Lin          |1    |10/7/2022 3:51  |justru pas hujan ngga bs dipake pdhl org perlu delivery sm driver kan pas hujan tarif naik terus tapi pelayanan makin jelek goclub jg skrg diskonnya dikit awalnya 70tb jd 10rb skrg mana benefit harga normal pas jam jrofit udh ngga ada lagi sia2 jd customer lama|negatif  |[pas, hujan, ngga, bs, dipake, pdhl, org, delivery, sm, driver, pas, hujan, tarif, pelayanan, jelek, goclub, jg, skrg, diskonnya, dikit, 70tb, jd, 10rb, skrg, benefit, harga, normal, pas, jam, jrofit, udh, ngga, sia2, jd, customer]                                    |[pas, hujan, ngga, bs, dipake, pdhl, org, delivery, sm, driver, pas, hujan, tarif, layan, jelek, goclub, jg, skrg, diskon, dikit, 70tb, jd, 10rb, skrg, benefit, harga, normal, pas, jam, jrofit, udh, ngga, sia2, jd, customer]                                           |hujan ngga dipake pdhl delivery driver hujan tarif layan jelek goclub skrg diskon dikit 70tb 10rb skrg benefit harga normal jrofit ngga sia2 customer|24        |\n",
            "|Massed Potato     |2    |10/2/2022 8:01  |pakai gps di kota lain yg kebaca masih gps di kota sebelumnya                                                                                                                                                                                                        |negatif  |[pakai, gps, kota, yg, kebaca, gps, kota]                                                                                                                                                                                                                                  |[pakai, gps, kota, yg, baca, gps, kota]                                                                                                                                                                                                                                    |pakai kota baca kota                                                                                                                                 |4         |\n",
            "|fathur rohman     |1    |9/26/2022 12:28 |bayar biaya layanan jang naon ai pas aya masalah robot hungkuk yg bls aplikasi konthhhol gopay saya kembalikan                                                                                                                                                       |negatif  |[bayar, biaya, layanan, jang, naon, ai, pas, aya, robot, hungkuk, yg, bls, aplikasi, konthhhol, gopay, kembalikan]                                                                                                                                                         |[bayar, biaya, layan, jang, naon, ai, pas, aya, robot, hungkuk, yg, bls, aplikasi, konthhhol, gopay, kembali]                                                                                                                                                              |bayar biaya layan jang naon robot hungkuk aplikasi konthhhol gopay kembali                                                                           |11        |\n",
            "|Dani Pram         |1    |9/10/2022 12:23 |tidak bisa combo kupon lagi kecewaaaaaa                                                                                                                                                                                                                              |negatif  |[combo, kupon, kecewaaaaaa]                                                                                                                                                                                                                                                |[combo, kupon, kecewaaaaaa]                                                                                                                                                                                                                                                |combo kupon kecewaaaaaa                                                                                                                              |3         |\n",
            "|okto napitupulu   |5    |9/10/2022 5:02  |terbaik                                                                                                                                                                                                                                                              |positif  |[terbaik]                                                                                                                                                                                                                                                                  |[baik]                                                                                                                                                                                                                                                                     |baik                                                                                                                                                 |1         |\n",
            "|Russell Williams  |5    |8/31/2022 8:20  |good drivers happyxwith the service provided                                                                                                                                                                                                                         |positif  |[good, drivers, happyxwith, the, service, provided]                                                                                                                                                                                                                        |[good, drivers, happyxwith, the, service, provided]                                                                                                                                                                                                                        |good drivers happyxwith service provided                                                                                                             |5         |\n",
            "|Teguh Martoto     |5    |8/28/2022 12:14 |sangat membantu user friendly                                                                                                                                                                                                                                        |positif  |[membantu, user, friendly]                                                                                                                                                                                                                                                 |[bantu, user, friendly]                                                                                                                                                                                                                                                    |bantu user friendly                                                                                                                                  |3         |\n",
            "|catheryn leong    |4    |8/26/2022 22:57 |overall budget and good services however it might need to take some time for car booking                                                                                                                                                                             |positif  |[overall, budget, and, good, services, however, it, might, need, to, take, some, time, for, car, booking]                                                                                                                                                                  |[overall, budget, and, good, services, however, it, might, need, to, take, some, time, for, car, booking]                                                                                                                                                                  |overall budget good services however might need take some time booking                                                                               |11        |\n",
            "|fung maslie       |3    |8/23/2022 2:43  |sometime error                                                                                                                                                                                                                                                       |netral   |[sometime, error]                                                                                                                                                                                                                                                          |[sometime, error]                                                                                                                                                                                                                                                          |sometime error                                                                                                                                       |2         |\n",
            "|Trâm Lê           |5    |8/21/2022 9:22  |good app for tranportation                                                                                                                                                                                                                                           |positif  |[good, app, for, tranportation]                                                                                                                                                                                                                                            |[good, app, for, tranportation]                                                                                                                                                                                                                                            |good tranportation                                                                                                                                   |2         |\n",
            "|Erwin             |5    |8/16/2022 1:47  |                                                                                                                                                                                                                                                                     |positif  |[]                                                                                                                                                                                                                                                                         |[]                                                                                                                                                                                                                                                                         |                                                                                                                                                     |1         |\n",
            "|danny setyapradja |5    |8/15/2022 10:54 |helpfull aplication                                                                                                                                                                                                                                                  |positif  |[helpfull, aplication]                                                                                                                                                                                                                                                     |[helpfull, aplication]                                                                                                                                                                                                                                                     |helpfull aplication                                                                                                                                  |2         |\n",
            "|Adrianus Sujatmiko|5    |8/13/2022 9:51  |very helpful                                                                                                                                                                                                                                                         |positif  |[very, helpful]                                                                                                                                                                                                                                                            |[very, helpful]                                                                                                                                                                                                                                                            |very helpful                                                                                                                                         |2         |\n",
            "|Minh-Vu Nguyen    |1    |8/12/2022 1:48  |t h i kh ng book chuy n xe c                                                                                                                                                                                                                                         |negatif  |[t, h, i, kh, ng, book, chuy, n, xe, c]                                                                                                                                                                                                                                    |[t, h, i, kh, ng, book, chuy, n, xe, c]                                                                                                                                                                                                                                    |book chuy                                                                                                                                            |2         |\n",
            "+------------------+-----+----------------+---------------------------------------------------------------------------------------------------------------------------------------------------------------------------------------------------------------------------------------------------------------------+---------+---------------------------------------------------------------------------------------------------------------------------------------------------------------------------------------------------------------------------------------------------------------------------+---------------------------------------------------------------------------------------------------------------------------------------------------------------------------------------------------------------------------------------------------------------------------+-----------------------------------------------------------------------------------------------------------------------------------------------------+----------+\n",
            "only showing top 20 rows\n",
            "\n"
          ]
        }
      ]
    },
    {
      "cell_type": "code",
      "source": [
        "from pyspark.sql.functions import explode, col\n",
        "\n",
        "# Menghitung frekuensi tiap kata yang muncul\n",
        "word_freq_df = tokenized_df.select(explode(\"words\").alias(\"word\")).groupBy(\"word\").count()\n",
        "\n",
        "# Visualisasi frekuensi kata yang muncul\n",
        "word_freq_df.orderBy(col(\"count\").desc()).show()"
      ],
      "metadata": {
        "id": "_V5L25yXyhz8"
      },
      "execution_count": null,
      "outputs": []
    },
    {
      "cell_type": "markdown",
      "source": [
        "# Wordcloud"
      ],
      "metadata": {
        "id": "Kkfpt0b5rpE7"
      }
    },
    {
      "cell_type": "code",
      "source": [
        "pip install wordcloud"
      ],
      "metadata": {
        "colab": {
          "base_uri": "https://localhost:8080/"
        },
        "id": "HvcBSX6xnzuP",
        "outputId": "49998b2d-23f8-4f0a-8312-702d69bcbe5b"
      },
      "execution_count": null,
      "outputs": [
        {
          "output_type": "stream",
          "name": "stdout",
          "text": [
            "Requirement already satisfied: wordcloud in /usr/local/lib/python3.10/dist-packages (1.9.3)\n",
            "Requirement already satisfied: numpy>=1.6.1 in /usr/local/lib/python3.10/dist-packages (from wordcloud) (1.25.2)\n",
            "Requirement already satisfied: pillow in /usr/local/lib/python3.10/dist-packages (from wordcloud) (9.4.0)\n",
            "Requirement already satisfied: matplotlib in /usr/local/lib/python3.10/dist-packages (from wordcloud) (3.7.1)\n",
            "Requirement already satisfied: contourpy>=1.0.1 in /usr/local/lib/python3.10/dist-packages (from matplotlib->wordcloud) (1.2.1)\n",
            "Requirement already satisfied: cycler>=0.10 in /usr/local/lib/python3.10/dist-packages (from matplotlib->wordcloud) (0.12.1)\n",
            "Requirement already satisfied: fonttools>=4.22.0 in /usr/local/lib/python3.10/dist-packages (from matplotlib->wordcloud) (4.51.0)\n",
            "Requirement already satisfied: kiwisolver>=1.0.1 in /usr/local/lib/python3.10/dist-packages (from matplotlib->wordcloud) (1.4.5)\n",
            "Requirement already satisfied: packaging>=20.0 in /usr/local/lib/python3.10/dist-packages (from matplotlib->wordcloud) (24.0)\n",
            "Requirement already satisfied: pyparsing>=2.3.1 in /usr/local/lib/python3.10/dist-packages (from matplotlib->wordcloud) (3.1.2)\n",
            "Requirement already satisfied: python-dateutil>=2.7 in /usr/local/lib/python3.10/dist-packages (from matplotlib->wordcloud) (2.8.2)\n",
            "Requirement already satisfied: six>=1.5 in /usr/local/lib/python3.10/dist-packages (from python-dateutil>=2.7->matplotlib->wordcloud) (1.16.0)\n"
          ]
        }
      ]
    },
    {
      "cell_type": "markdown",
      "source": [
        "Sentimen Positif"
      ],
      "metadata": {
        "id": "LOJPP1Ewr4v4"
      }
    },
    {
      "cell_type": "code",
      "source": [
        "from pyspark.sql import SparkSession\n",
        "from pyspark.sql.functions import col\n",
        "from wordcloud import WordCloud\n",
        "import matplotlib.pyplot as plt\n",
        "\n",
        "# Filter DataFrame untuk score lebih dari 3\n",
        "df_p = df.filter(col('Score') > 3)\n",
        "\n",
        "# Menggabungkan semua teks dari kolom 'content' menjadi satu string besar\n",
        "all_words_lem = \" \".join([row['content'] for row in df_p.select('content').collect()])\n",
        "\n",
        "# Cek apakah all_words_lem tidak kosong sebelum membuat word cloud\n",
        "if all_words_lem.strip():  # Memastikan string tidak hanya berisi spasi putih\n",
        "    # Membuat word cloud dari teks positif\n",
        "    wordcloud = WordCloud(background_color='white', width=800, height=500, random_state=21, max_font_size=130).generate(all_words_lem)\n",
        "\n",
        "    # Menampilkan word cloud menggunakan matplotlib\n",
        "    plt.figure(figsize=(20, 10))\n",
        "    plt.imshow(wordcloud, interpolation='bilinear')\n",
        "    plt.axis('off')\n",
        "    plt.show()\n",
        "else:\n",
        "    print(\"No text available to generate word cloud.\")"
      ],
      "metadata": {
        "id": "4DLlqEz001cu"
      },
      "execution_count": null,
      "outputs": []
    },
    {
      "cell_type": "markdown",
      "source": [
        "Sentimen Negatif"
      ],
      "metadata": {
        "id": "eUGyKODEr5gZ"
      }
    },
    {
      "cell_type": "code",
      "source": [
        "from pyspark.sql import SparkSession\n",
        "from pyspark.sql.functions import col\n",
        "from wordcloud import WordCloud\n",
        "import matplotlib.pyplot as plt\n",
        "\n",
        "# Filter DataFrame untuk score lebih dari 3\n",
        "df_p = df.filter(col('Score') < 3)\n",
        "\n",
        "# Menggabungkan semua teks dari kolom 'content' menjadi satu string besar\n",
        "all_words_lem = \" \".join([row['content'] for row in df_p.select('content').collect()])\n",
        "\n",
        "# Cek apakah all_words_lem tidak kosong sebelum membuat word cloud\n",
        "if all_words_lem.strip():  # Memastikan string tidak hanya berisi spasi putih\n",
        "    # Membuat word cloud dari teks positif\n",
        "    wordcloud = WordCloud(background_color='white', width=800, height=500, random_state=21, max_font_size=130).generate(all_words_lem)\n",
        "\n",
        "    # Menampilkan word cloud menggunakan matplotlib\n",
        "    plt.figure(figsize=(20, 10))\n",
        "    plt.imshow(wordcloud, interpolation='bilinear')\n",
        "    plt.axis('off')\n",
        "    plt.show()\n",
        "else:\n",
        "    print(\"No text available to generate word cloud.\")\n"
      ],
      "metadata": {
        "id": "G5zBc-JK03Hb"
      },
      "execution_count": null,
      "outputs": []
    },
    {
      "cell_type": "markdown",
      "source": [
        "Sentimen Netral"
      ],
      "metadata": {
        "id": "vkVqbuecr8Bs"
      }
    },
    {
      "cell_type": "code",
      "source": [
        "from pyspark.sql import SparkSession\n",
        "from pyspark.sql.functions import col\n",
        "from wordcloud import WordCloud\n",
        "import matplotlib.pyplot as plt\n",
        "\n",
        "# Filter DataFrame untuk score lebih dari 3\n",
        "df_p = df.filter(col('Score') == 3)\n",
        "\n",
        "# Menggabungkan semua teks dari kolom 'content' menjadi satu string besar\n",
        "all_words_lem = \" \".join([row['content'] for row in df_p.select('content').collect()])\n",
        "\n",
        "# Cek apakah all_words_lem tidak kosong sebelum membuat word cloud\n",
        "if all_words_lem.strip():  # Memastikan string tidak hanya berisi spasi putih\n",
        "    # Membuat word cloud dari teks positif\n",
        "    wordcloud = WordCloud(background_color='white', width=800, height=500, random_state=21, max_font_size=130).generate(all_words_lem)\n",
        "\n",
        "    # Menampilkan word cloud menggunakan matplotlib\n",
        "    plt.figure(figsize=(20, 10))\n",
        "    plt.imshow(wordcloud, interpolation='bilinear')\n",
        "    plt.axis('off')\n",
        "    plt.show()\n",
        "else:\n",
        "    print(\"No text available to generate word cloud.\")\n"
      ],
      "metadata": {
        "id": "seeqWyzB05yK"
      },
      "execution_count": null,
      "outputs": []
    }
  ]
}